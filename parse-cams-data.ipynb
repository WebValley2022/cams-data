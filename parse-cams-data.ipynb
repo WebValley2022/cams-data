{
 "cells": [
  {
   "cell_type": "code",
   "execution_count": 1,
   "id": "c834f752-43b1-46b4-b423-b438a7d546d4",
   "metadata": {},
   "outputs": [],
   "source": [
    "import xarray as xr\n",
    "from datetime import datetime, timedelta\n",
    "from pathlib import Path\n",
    "import os\n",
    "import pandas as pd"
   ]
  },
  {
   "cell_type": "code",
   "execution_count": 2,
   "id": "07c0f058-1ce6-43b1-ad7a-38d115f2ab3a",
   "metadata": {},
   "outputs": [],
   "source": [
    "data_folder = Path(\"./data\")"
   ]
  },
  {
   "cell_type": "code",
   "execution_count": 3,
   "id": "6c56d90c-00af-4c99-be21-d9badfd59fc5",
   "metadata": {},
   "outputs": [],
   "source": [
    "def read_year_netcdf(year):\n",
    "    files = sorted(os.listdir(data_folder / str(year)))\n",
    "\n",
    "    cams_year = []\n",
    "\n",
    "    for path in files:\n",
    "        date = path.split(\".\")[0].split(\"_\")[-1]\n",
    "        date = datetime.strptime(date, \"%Y-%m-%d\")\n",
    "\n",
    "        cams_date = xr.open_dataset(data_folder / str(year) / path)    \n",
    "        cams_date = cams_date.assign_coords(date=[date] * cams_date.time.shape[0])\n",
    "        cams_date = cams_date.assign_coords(forecast_date=cams_date.date + cams_date.time)\n",
    "        # cams_date['date'] = [date] * cams_date.time.shape[0]\n",
    "        # cams_date['forecast_date'] = cams_date.date + cams_date.time\n",
    "\n",
    "        cams_year.append(cams_date)\n",
    "        \n",
    "    return cams_year\n"
   ]
  },
  {
   "cell_type": "code",
   "execution_count": 17,
   "id": "cca70e05-6e55-4500-864b-9706c01ffb94",
   "metadata": {},
   "outputs": [],
   "source": [
    "def netcdf_to_df(cams_year, lat, lon):\n",
    "    cams_year = cams_year.copy()\n",
    "    level = 0\n",
    "\n",
    "    df_year = []\n",
    "    for cams_day in cams_year:\n",
    "        df = cams_day.sel(\n",
    "            latitude=lat, \n",
    "            longitude=lon,\n",
    "            level=level,\n",
    "            method=\"nearest\"\n",
    "        )\n",
    "\n",
    "        df_year.append(df.to_dataframe().reset_index())\n",
    "\n",
    "    df_year = pd.concat(df_year)\n",
    "    df_year = df_year[df_year.time.dt.days == 3]\n",
    "    \n",
    "    return df_year\n"
   ]
  },
  {
   "cell_type": "code",
   "execution_count": 59,
   "id": "78cb3517-933c-4669-ae45-ac894e1ac04a",
   "metadata": {},
   "outputs": [
    {
     "name": "stdout",
     "output_type": "stream",
     "text": [
      "2020\n",
      "Parco S. Chiara\n",
      "Via Bolzano\n",
      "A22 (Avio)\n",
      "Borgo Valsugana\n",
      "Riva del Gard\n",
      "Monte Gaza\n",
      "Rovereto\n",
      "Piana Rotaliana\n",
      "2021\n",
      "Parco S. Chiara\n",
      "Via Bolzano\n",
      "A22 (Avio)\n",
      "Borgo Valsugana\n",
      "Riva del Gard\n",
      "Monte Gaza\n",
      "Rovereto\n",
      "Piana Rotaliana\n",
      "2022\n",
      "Parco S. Chiara\n",
      "Via Bolzano\n",
      "A22 (Avio)\n",
      "Borgo Valsugana\n",
      "Riva del Gard\n",
      "Monte Gaza\n",
      "Rovereto\n",
      "Piana Rotaliana\n"
     ]
    }
   ],
   "source": [
    "locations_stations = {\n",
    "    \"Parco S. Chiara\": \"Trento\",\n",
    "    \"Via Bolzano\": \"Trento\",\n",
    "    \"A22 (Avio)\": \"Avio\",\n",
    "    \"Borgo Valsugana\": \"Borgo\",\n",
    "    \"Riva del Gard\": \"Riva del Garda\",\n",
    "    \"Monte Gaza\": \"Monte Gaza\",\n",
    "    \"Rovereto\": \"Rovereto\",\n",
    "    \"Piana Rotaliana\": \"Piana Rotaliana\",\n",
    "}\n",
    "\n",
    "locations = {\n",
    "    \"Trento\": (46.06787, 11.12108),\n",
    "    \"Borgo\": (46.051716, 11.45419),\n",
    "    \"Riva del Garda\": (45.89143, 10.844392),\n",
    "    \"Monte Gaza\": (46.082529, 10.95804),\n",
    "    \"Rovereto\": (45.892346, 11.039626),\n",
    "    \"Piana Rotaliana\": (46.196812, 11.113394),\n",
    "    \"Avio\": (45.742160, 10.970466),\n",
    "}\n",
    "\n",
    "years = [2020, 2021, 2022]\n",
    "\n",
    "location_dfs = {}\n",
    "\n",
    "for year in years:\n",
    "    print(year)\n",
    "    location_xr = read_year_netcdf(year)        \n",
    "    location_df = []\n",
    "    \n",
    "    for station, location in locations_stations.items():\n",
    "        print(station)\n",
    "        \n",
    "        lat, lon = locations[location]\n",
    "        \n",
    "        loc_year_df = netcdf_to_df(location_xr, lat, lon)\n",
    "        loc_year_df[\"location\"] = location\n",
    "        loc_year_df[\"year\"] = year\n",
    "        loc_year_df[\"Stazione\"] = station\n",
    "        \n",
    "        location_df.append(loc_year_df)\n",
    "        \n",
    "    location_dfs[(year, station)] = pd.concat(location_df)\n",
    "\n",
    "dfs = pd.concat(location_dfs.values())\n"
   ]
  },
  {
   "cell_type": "code",
   "execution_count": 63,
   "id": "57893637-6c8b-4a1a-94d6-f622c371cce5",
   "metadata": {},
   "outputs": [],
   "source": [
    "daily_dfs = dfs.groupby([\"Stazione\", dfs.forecast_date.dt.date]).mean().reset_index()"
   ]
  },
  {
   "cell_type": "code",
   "execution_count": 79,
   "id": "96227f6c-09fd-4af4-850f-e260e35f1ffc",
   "metadata": {},
   "outputs": [],
   "source": [
    "daily_dfs_subset = daily_dfs[['Stazione', 'forecast_date', 'no2_conc', 'pm10_conc', 'year']]\n",
    "daily_dfs_subset = daily_dfs_subset.rename({\n",
    "    \"forecast_date\": \"Data\",\n",
    "    \"year\": \"Year\",\n",
    "}, axis=1)\n",
    "\n",
    "pm10 = daily_dfs_subset[\n",
    "    [\"Stazione\", \"Data\", \"pm10_conc\", \"Year\"]\n",
    "]\n",
    "\n",
    "no2 = daily_dfs_subset[\n",
    "    [\"Stazione\", \"Data\", \"no2_conc\", \"Year\"]\n",
    "]\n",
    "\n",
    "pm10[\"Inquinante\"] = \"PM10\"\n",
    "pm10 = pm10.rename({\"pm10_conc\": \"Valore\"}, axis=1)\n",
    "no2[\"Inquinante\"] = \"Biossido di Azoto\"\n",
    "no2 = no2.rename({\"no2_conc\": \"Valore\"}, axis=1)\n",
    "\n",
    "df_quasi_final = pd.concat([pm10, no2])\n",
    "df_quasi_final[\"Year\"] = df_quasi_final.Year.map(int)\n",
    "df_quasi_final.to_csv(\"./cams_data_4d_daily_pm10_no2.csv\", index=None)"
   ]
  },
  {
   "cell_type": "code",
   "execution_count": 75,
   "id": "06c27541-3d1a-410b-a2e6-f6340af8a4a2",
   "metadata": {},
   "outputs": [
    {
     "data": {
      "text/plain": [
       "(Index(['Stazione', 'Data', 'Valore', 'Year', 'Inquinante'], dtype='object'),\n",
       " Index(['Stazione', 'Data', 'Valore', 'Valore', 'Inquinante'], dtype='object'))"
      ]
     },
     "execution_count": 75,
     "metadata": {},
     "output_type": "execute_result"
    }
   ],
   "source": [
    "pm10.columns, no2.columns"
   ]
  },
  {
   "cell_type": "code",
   "execution_count": null,
   "id": "ab860d3b-c841-46eb-a31b-132b26b7a6c3",
   "metadata": {},
   "outputs": [],
   "source": []
  }
 ],
 "metadata": {
  "kernelspec": {
   "display_name": "Python 3",
   "language": "python",
   "name": "python3"
  },
  "language_info": {
   "codemirror_mode": {
    "name": "ipython",
    "version": 3
   },
   "file_extension": ".py",
   "mimetype": "text/x-python",
   "name": "python",
   "nbconvert_exporter": "python",
   "pygments_lexer": "ipython3",
   "version": "3.7.8"
  }
 },
 "nbformat": 4,
 "nbformat_minor": 5
}
